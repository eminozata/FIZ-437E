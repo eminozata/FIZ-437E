{
 "cells": [
  {
   "cell_type": "code",
   "execution_count": 6,
   "metadata": {},
   "outputs": [],
   "source": [
    "import numpy as np\n",
    "import os\n",
    "import pandas as pd\n",
    "from PIL import Image"
   ]
  },
  {
   "cell_type": "code",
   "execution_count": 7,
   "metadata": {},
   "outputs": [],
   "source": [
    "cars_path = 'C:/Users/muham/OneDrive/Masaüstü/FIZ-437E/HAM DATA/cars-gray/'\n",
    "flowers_path = 'C:/Users/muham/OneDrive/Masaüstü/FIZ-437E/HAM DATA/flower-gray/'\n",
    "\n",
    "cars = os.listdir(cars_path)\n",
    "flowers = os.listdir(flowers_path)"
   ]
  },
  {
   "cell_type": "code",
   "execution_count": 8,
   "metadata": {},
   "outputs": [],
   "source": [
    "train_size = 0.9"
   ]
  },
  {
   "cell_type": "code",
   "execution_count": 9,
   "metadata": {},
   "outputs": [],
   "source": [
    "def img2vector(path, image_name):\n",
    "    image = Image.open(os.path.join(path, image_name))\n",
    "    vector = np.array(image)\n",
    "    vector = vector.flatten()\n",
    "    return vector"
   ]
  },
  {
   "cell_type": "code",
   "execution_count": 10,
   "metadata": {},
   "outputs": [],
   "source": [
    "car_vectors = np.zeros((len(cars), 2500))\n",
    "for i in range(0, len(cars)):\n",
    "    car_vectors[i] = img2vector(cars_path, cars[i])"
   ]
  },
  {
   "cell_type": "code",
   "execution_count": 11,
   "metadata": {},
   "outputs": [],
   "source": [
    "flowers_vectors = np.zeros((len(flowers), 2500))\n",
    "for i in range(0, len(flowers)):\n",
    "    flowers_vectors[i] = img2vector(flowers_path, flowers[i])"
   ]
  },
  {
   "cell_type": "code",
   "execution_count": 12,
   "metadata": {},
   "outputs": [],
   "source": [
    "car = pd.DataFrame(car_vectors)\n",
    "flowers_df = pd.DataFrame(flowers_vectors)\n",
    "\n",
    "car['label'] = 1\n",
    "flowers_df['label'] = -1\n",
    "\n",
    "car_train = car.sample(frac=train_size, random_state=200)\n",
    "car_test = car.drop(car_train.index)\n",
    "\n",
    "flowers_train = flowers_df.sample(frac=train_size, random_state=200)\n",
    "flowers_test = flowers_df.drop(flowers_train.index)\n",
    "\n",
    "train_df = pd.concat([car_train, flowers_train])\n",
    "test_df = pd.concat([car_test, flowers_test])"
   ]
  },
  {
   "cell_type": "code",
   "execution_count": 13,
   "metadata": {},
   "outputs": [],
   "source": [
    "train_x = train_df.drop('label', axis=1)\n",
    "train_y = train_df['label']\n",
    "\n",
    "test_x = test_df.drop('label', axis=1)\n",
    "test_y = test_df['label']"
   ]
  },
  {
   "cell_type": "code",
   "execution_count": 14,
   "metadata": {},
   "outputs": [],
   "source": [
    "def euclidean_distance(x, y):\n",
    "    return np.sqrt(np.sum((x - y)**2))"
   ]
  },
  {
   "cell_type": "code",
   "execution_count": 15,
   "metadata": {},
   "outputs": [],
   "source": [
    "def knn(x, y, k):\n",
    "    distances = []\n",
    "    for i in range(0, len(x)):\n",
    "        distances.append(euclidean_distance(x.iloc[i], y))\n",
    "    distances = np.array(distances)\n",
    "    sorted_indices = np.argsort(distances)\n",
    "    sorted_indices = sorted_indices[:k]\n",
    "    return sorted_indices\n",
    "\n",
    "def predict(x, y, k):\n",
    "    indices = knn(x, y, k)\n",
    "    labels = train_y.iloc[indices]\n",
    "    return labels.mode()[0]\n",
    "\n",
    "def accuracy(x, y, k):\n",
    "    correct = 0\n",
    "    for i in range(0, len(x)):\n",
    "        prediction = predict(train_x, x.iloc[i], k)\n",
    "        if prediction == y.iloc[i]:\n",
    "            correct += 1\n",
    "    return correct / len(x)\n",
    "\n",
    "\n",
    "    "
   ]
  },
  {
   "cell_type": "code",
   "execution_count": 18,
   "metadata": {},
   "outputs": [],
   "source": [
    "#k loop and plot all accuracies and k\n",
    "\n",
    "import matplotlib.pyplot as plt\n",
    "\n",
    "k_list = []\n",
    "accuracy_train_list = []\n",
    "accuracy_test_list = []\n",
    "\n",
    "\n",
    "for k in range(1, 30,2):\n",
    "    accuracy_train = accuracy(train_x, train_y, k)\n",
    "    accuracy_test = accuracy(test_x, test_y, k)\n",
    "    k_list.append(k)\n",
    "    accuracy_train_list.append(accuracy_train)\n",
    "    accuracy_test_list.append(accuracy_test)\n",
    "    \n",
    "\n",
    "plt.plot(k_list, accuracy_train_list, label='train')\n",
    "plt.plot(k_list, accuracy_test_list, label='test')\n",
    "plt.xlabel('k')\n",
    "plt.ylabel('accuracy')\n",
    "plt.show()"
   ]
  },
  {
   "cell_type": "code",
   "execution_count": null,
   "metadata": {},
   "outputs": [],
   "source": []
  },
  {
   "cell_type": "code",
   "execution_count": null,
   "metadata": {},
   "outputs": [],
   "source": []
  }
 ],
 "metadata": {
  "kernelspec": {
   "display_name": "Python 3.10.7 64-bit (microsoft store)",
   "language": "python",
   "name": "python3"
  },
  "language_info": {
   "codemirror_mode": {
    "name": "ipython",
    "version": 3
   },
   "file_extension": ".py",
   "mimetype": "text/x-python",
   "name": "python",
   "nbconvert_exporter": "python",
   "pygments_lexer": "ipython3",
   "version": "3.10.8"
  },
  "orig_nbformat": 4,
  "vscode": {
   "interpreter": {
    "hash": "d62ed14bcfe00e9327ce4c427a2f9f47c404f2673d9388e850d9d086e145f1c8"
   }
  }
 },
 "nbformat": 4,
 "nbformat_minor": 2
}
